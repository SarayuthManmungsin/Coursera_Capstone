{
    "nbformat_minor": 2, 
    "cells": [
        {
            "source": "### This notebook is used for capstone project for IBM Data Science Professional certificate", 
            "cell_type": "markdown", 
            "metadata": {}
        }, 
        {
            "execution_count": 112, 
            "cell_type": "code", 
            "source": "import pandas as pd  \nimport numpy as np\nimport requests \nfrom bs4 import BeautifulSoup\nimport pprint", 
            "outputs": [], 
            "metadata": {}
        }, 
        {
            "source": "Make a dictionary of all Toronto Boroughs and Neighborhoods with Postal Codes", 
            "cell_type": "markdown", 
            "metadata": {}
        }, 
        {
            "execution_count": 125, 
            "cell_type": "code", 
            "source": "\n#neighborhoods_dict = {'M5G': [['Downtown Toronto'],['Central', 'Bay Street']]}\n\nneighborhoods_dict = {}\n\n#I can't control wikipedia, so I downloaded the page and put in my github repo\n\nwith open('List of postal codes of Canada_ M - Wikipedia.html') as html_file:\n    soup = BeautifulSoup(html_file, 'lxml')\n    \nmatch = soup.find('table', class_='wikitable sortable jquery-tablesorter')\nmatch = match.find('tbody')\n\ntable_rows = match.find_all('tr')\n\n\n#process the table founded in the wiki page and make a dictionary of following form:\n#{'Code': [['Borough'],['NeighborhoodS',...']]}\nfor item in table_rows:\n    table_data = item.find_all('td')\n        \n    for i, data in enumerate(table_data):\n        table_data[i] = data.text.rstrip()\n  \n    #process the table_data to dict: {'Code': [['Borough'],['NeighborhoodS',...']]}\n    code = table_data[0]\n    borough = table_data[1]\n    neighborhood = table_data[2]\n    \n    if borough == 'Not assigned':  #filter all entries where borough is undefined\n        pass\n    elif code not in neighborhoods_dict: \n        if neighborhood != 'Not assigned':\n            neighborhoods_dict[code]=[[borough],[neighborhood]]\n        else:\n            neighborhoods_dict[code]=[[borough],[borough]]\n    elif code in neighborhoods_dict:\n            neighborhoods_dict[code][1].append(neighborhood)\n    else:\n        print('something wrong with data') #check if something inconsistent in data\n   ", 
            "outputs": [], 
            "metadata": {}
        }, 
        {
            "source": "#### Let's transform our dictionary to panda's dataframe\n", 
            "cell_type": "markdown", 
            "metadata": {}
        }, 
        {
            "execution_count": null, 
            "cell_type": "code", 
            "source": "", 
            "outputs": [], 
            "metadata": {}
        }, 
        {
            "execution_count": 126, 
            "cell_type": "code", 
            "source": "# define the dataframe columns\ncolumn_names = ['PostalCode','Borough','Neighborhood']\n\n# instantiate the dataframe\nneighborhoods = pd.DataFrame(columns = column_names)\n\n#Take a look at the empty dataframe to confirm that the columns are as intended.\nneighborhoods\n", 
            "outputs": [
                {
                    "execution_count": 126, 
                    "output_type": "execute_result", 
                    "data": {
                        "text/plain": "Empty DataFrame\nColumns: [PostalCode, Borough, Neighborhood]\nIndex: []", 
                        "text/html": "<div>\n<style scoped>\n    .dataframe tbody tr th:only-of-type {\n        vertical-align: middle;\n    }\n\n    .dataframe tbody tr th {\n        vertical-align: top;\n    }\n\n    .dataframe thead th {\n        text-align: right;\n    }\n</style>\n<table border=\"1\" class=\"dataframe\">\n  <thead>\n    <tr style=\"text-align: right;\">\n      <th></th>\n      <th>PostalCode</th>\n      <th>Borough</th>\n      <th>Neighborhood</th>\n    </tr>\n  </thead>\n  <tbody>\n  </tbody>\n</table>\n</div>"
                    }, 
                    "metadata": {}
                }
            ], 
            "metadata": {}
        }, 
        {
            "execution_count": 155, 
            "cell_type": "code", 
            "source": "for k, v in neighborhoods_dict.items():\n \n    borough = v[0][0]\n    Neighborhood = v[1]\n  \n    neighborhoods = neighborhoods.append({'PostalCode': k, 'Borough': borough, 'Neighborhood': Neighborhood} , ignore_index=True)\n\nneighborhoods.head(12)", 
            "outputs": [
                {
                    "execution_count": 155, 
                    "output_type": "execute_result", 
                    "data": {
                        "text/plain": "   PostalCode           Borough  \\\n0         M3A        North York   \n1         M4A        North York   \n2         M5A  Downtown Toronto   \n3         M6A        North York   \n4         M7A      Queen's Park   \n5         M9A         Etobicoke   \n6         M1B       Scarborough   \n7         M3B        North York   \n8         M4B         East York   \n9         M5B  Downtown Toronto   \n10        M6B        North York   \n11        M9B         Etobicoke   \n\n                                         Neighborhood  \n0                                         [Parkwoods]  \n1                                  [Victoria Village]  \n2                         [Harbourfront, Regent Park]  \n3                  [Lawrence Heights, Lawrence Manor]  \n4                                      [Queen's Park]  \n5                                  [Islington Avenue]  \n6                                    [Rouge, Malvern]  \n7                                   [Don Mills North]  \n8                   [Woodbine Gardens, Parkview Hill]  \n9                          [Ryerson, Garden District]  \n10                                        [Glencairn]  \n11  [Cloverdale, Islington, Martin Grove, Princess...  ", 
                        "text/html": "<div>\n<style scoped>\n    .dataframe tbody tr th:only-of-type {\n        vertical-align: middle;\n    }\n\n    .dataframe tbody tr th {\n        vertical-align: top;\n    }\n\n    .dataframe thead th {\n        text-align: right;\n    }\n</style>\n<table border=\"1\" class=\"dataframe\">\n  <thead>\n    <tr style=\"text-align: right;\">\n      <th></th>\n      <th>PostalCode</th>\n      <th>Borough</th>\n      <th>Neighborhood</th>\n    </tr>\n  </thead>\n  <tbody>\n    <tr>\n      <th>0</th>\n      <td>M3A</td>\n      <td>North York</td>\n      <td>[Parkwoods]</td>\n    </tr>\n    <tr>\n      <th>1</th>\n      <td>M4A</td>\n      <td>North York</td>\n      <td>[Victoria Village]</td>\n    </tr>\n    <tr>\n      <th>2</th>\n      <td>M5A</td>\n      <td>Downtown Toronto</td>\n      <td>[Harbourfront, Regent Park]</td>\n    </tr>\n    <tr>\n      <th>3</th>\n      <td>M6A</td>\n      <td>North York</td>\n      <td>[Lawrence Heights, Lawrence Manor]</td>\n    </tr>\n    <tr>\n      <th>4</th>\n      <td>M7A</td>\n      <td>Queen's Park</td>\n      <td>[Queen's Park]</td>\n    </tr>\n    <tr>\n      <th>5</th>\n      <td>M9A</td>\n      <td>Etobicoke</td>\n      <td>[Islington Avenue]</td>\n    </tr>\n    <tr>\n      <th>6</th>\n      <td>M1B</td>\n      <td>Scarborough</td>\n      <td>[Rouge, Malvern]</td>\n    </tr>\n    <tr>\n      <th>7</th>\n      <td>M3B</td>\n      <td>North York</td>\n      <td>[Don Mills North]</td>\n    </tr>\n    <tr>\n      <th>8</th>\n      <td>M4B</td>\n      <td>East York</td>\n      <td>[Woodbine Gardens, Parkview Hill]</td>\n    </tr>\n    <tr>\n      <th>9</th>\n      <td>M5B</td>\n      <td>Downtown Toronto</td>\n      <td>[Ryerson, Garden District]</td>\n    </tr>\n    <tr>\n      <th>10</th>\n      <td>M6B</td>\n      <td>North York</td>\n      <td>[Glencairn]</td>\n    </tr>\n    <tr>\n      <th>11</th>\n      <td>M9B</td>\n      <td>Etobicoke</td>\n      <td>[Cloverdale, Islington, Martin Grove, Princess...</td>\n    </tr>\n  </tbody>\n</table>\n</div>"
                    }, 
                    "metadata": {}
                }
            ], 
            "metadata": {}
        }, 
        {
            "execution_count": 153, 
            "cell_type": "code", 
            "source": "print(neighborhoods.shape)", 
            "outputs": [
                {
                    "output_type": "stream", 
                    "name": "stdout", 
                    "text": "(309, 3)\n"
                }
            ], 
            "metadata": {}
        }, 
        {
            "execution_count": null, 
            "cell_type": "code", 
            "source": "", 
            "outputs": [], 
            "metadata": {}
        }
    ], 
    "nbformat": 4, 
    "metadata": {
        "kernelspec": {
            "display_name": "Python 3", 
            "name": "python3", 
            "language": "python"
        }, 
        "language_info": {
            "mimetype": "text/x-python", 
            "nbconvert_exporter": "python", 
            "version": "3.6.6", 
            "name": "python", 
            "file_extension": ".py", 
            "pygments_lexer": "ipython3", 
            "codemirror_mode": {
                "version": 3, 
                "name": "ipython"
            }
        }
    }
}