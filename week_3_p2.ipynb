{
    "nbformat_minor": 2, 
    "cells": [
        {
            "source": "### This notebook is used for capstone project for IBM Data Science Professional certificate", 
            "cell_type": "markdown", 
            "metadata": {}
        }, 
        {
            "execution_count": 31, 
            "cell_type": "code", 
            "source": "import pandas as pd  \nimport numpy as np\nimport requests \nfrom bs4 import BeautifulSoup\nimport pprint\nimport folium", 
            "outputs": [], 
            "metadata": {}
        }, 
        {
            "source": "Make a dictionary of all Toronto Boroughs and Neighborhoods with Postal Codes", 
            "cell_type": "markdown", 
            "metadata": {}
        }, 
        {
            "execution_count": 24, 
            "cell_type": "code", 
            "source": "\n#neighborhoods_dict = {'M5G': [['Downtown Toronto'],['Central', 'Bay Street']]}\n\nneighborhoods_dict = {}\n\n#I can't control wikipedia, so I downloaded the page and put in my github repo\n\nwith open('List of postal codes of Canada_ M - Wikipedia.html') as html_file:\n    soup = BeautifulSoup(html_file, 'lxml')\n    \nmatch = soup.find('table', class_='wikitable sortable jquery-tablesorter')\nmatch = match.find('tbody')\n\ntable_rows = match.find_all('tr')\n\n\n#process the table founded in the wiki page and make a dictionary of following form:\n#{'Code': [['Borough'],['NeighborhoodS',...']]}\nfor item in table_rows:\n    table_data = item.find_all('td')\n        \n    for i, data in enumerate(table_data):\n        table_data[i] = data.text.rstrip()\n  \n    #process the table_data to dict: {'Code': [['Borough'],['NeighborhoodS',...']]}\n    code = table_data[0]\n    borough = table_data[1]\n    neighborhood = table_data[2]\n    \n    if borough == 'Not assigned':  #filter all entries where borough is undefined\n        pass\n    elif code not in neighborhoods_dict: \n        if neighborhood != 'Not assigned':\n            neighborhoods_dict[code]=[[borough],[neighborhood]]\n        else:\n            neighborhoods_dict[code]=[[borough],[borough]]\n    elif code in neighborhoods_dict:\n            neighborhoods_dict[code][1].append(neighborhood)\n    else:\n        print('something wrong with data') #check if something inconsistent in data\n   ", 
            "outputs": [], 
            "metadata": {}
        }, 
        {
            "source": "#### Let's transform our dictionary to panda's dataframe\n", 
            "cell_type": "markdown", 
            "metadata": {}
        }, 
        {
            "execution_count": 25, 
            "cell_type": "code", 
            "source": "# define the dataframe columns\ncolumn_names = ['PostalCode','Borough','Neighborhood']\n\n# instantiate the dataframe\nneighborhoods = pd.DataFrame(columns = column_names)\n\n#Take a look at the empty dataframe to confirm that the columns are as intended.\nneighborhoods\n", 
            "outputs": [
                {
                    "execution_count": 25, 
                    "output_type": "execute_result", 
                    "data": {
                        "text/plain": "Empty DataFrame\nColumns: [PostalCode, Borough, Neighborhood]\nIndex: []", 
                        "text/html": "<div>\n<style scoped>\n    .dataframe tbody tr th:only-of-type {\n        vertical-align: middle;\n    }\n\n    .dataframe tbody tr th {\n        vertical-align: top;\n    }\n\n    .dataframe thead th {\n        text-align: right;\n    }\n</style>\n<table border=\"1\" class=\"dataframe\">\n  <thead>\n    <tr style=\"text-align: right;\">\n      <th></th>\n      <th>PostalCode</th>\n      <th>Borough</th>\n      <th>Neighborhood</th>\n    </tr>\n  </thead>\n  <tbody>\n  </tbody>\n</table>\n</div>"
                    }, 
                    "metadata": {}
                }
            ], 
            "metadata": {}
        }, 
        {
            "execution_count": 26, 
            "cell_type": "code", 
            "source": "for k, v in neighborhoods_dict.items():\n \n    borough = v[0][0]\n    Neighborhood = v[1]\n  \n    neighborhoods = neighborhoods.append({'PostalCode': k, 'Borough': borough, 'Neighborhood': Neighborhood} , ignore_index=True)\n\nneighborhoods.head()", 
            "outputs": [
                {
                    "execution_count": 26, 
                    "output_type": "execute_result", 
                    "data": {
                        "text/plain": "  PostalCode           Borough                        Neighborhood\n0        M3A        North York                         [Parkwoods]\n1        M4A        North York                  [Victoria Village]\n2        M5A  Downtown Toronto         [Harbourfront, Regent Park]\n3        M6A        North York  [Lawrence Heights, Lawrence Manor]\n4        M7A      Queen's Park                      [Queen's Park]", 
                        "text/html": "<div>\n<style scoped>\n    .dataframe tbody tr th:only-of-type {\n        vertical-align: middle;\n    }\n\n    .dataframe tbody tr th {\n        vertical-align: top;\n    }\n\n    .dataframe thead th {\n        text-align: right;\n    }\n</style>\n<table border=\"1\" class=\"dataframe\">\n  <thead>\n    <tr style=\"text-align: right;\">\n      <th></th>\n      <th>PostalCode</th>\n      <th>Borough</th>\n      <th>Neighborhood</th>\n    </tr>\n  </thead>\n  <tbody>\n    <tr>\n      <th>0</th>\n      <td>M3A</td>\n      <td>North York</td>\n      <td>[Parkwoods]</td>\n    </tr>\n    <tr>\n      <th>1</th>\n      <td>M4A</td>\n      <td>North York</td>\n      <td>[Victoria Village]</td>\n    </tr>\n    <tr>\n      <th>2</th>\n      <td>M5A</td>\n      <td>Downtown Toronto</td>\n      <td>[Harbourfront, Regent Park]</td>\n    </tr>\n    <tr>\n      <th>3</th>\n      <td>M6A</td>\n      <td>North York</td>\n      <td>[Lawrence Heights, Lawrence Manor]</td>\n    </tr>\n    <tr>\n      <th>4</th>\n      <td>M7A</td>\n      <td>Queen's Park</td>\n      <td>[Queen's Park]</td>\n    </tr>\n  </tbody>\n</table>\n</div>"
                    }, 
                    "metadata": {}
                }
            ], 
            "metadata": {}
        }, 
        {
            "execution_count": 27, 
            "cell_type": "code", 
            "source": "print(neighborhoods.shape)", 
            "outputs": [
                {
                    "output_type": "stream", 
                    "name": "stdout", 
                    "text": "(103, 3)\n"
                }
            ], 
            "metadata": {}
        }, 
        {
            "execution_count": 28, 
            "cell_type": "code", 
            "source": "coord = pd.read_csv('Geospatial_Coordinates.csv')\ncoord.head()", 
            "outputs": [
                {
                    "execution_count": 28, 
                    "output_type": "execute_result", 
                    "data": {
                        "text/plain": "  Postal Code   Latitude  Longitude\n0         M1B  43.806686 -79.194353\n1         M1C  43.784535 -79.160497\n2         M1E  43.763573 -79.188711\n3         M1G  43.770992 -79.216917\n4         M1H  43.773136 -79.239476", 
                        "text/html": "<div>\n<style scoped>\n    .dataframe tbody tr th:only-of-type {\n        vertical-align: middle;\n    }\n\n    .dataframe tbody tr th {\n        vertical-align: top;\n    }\n\n    .dataframe thead th {\n        text-align: right;\n    }\n</style>\n<table border=\"1\" class=\"dataframe\">\n  <thead>\n    <tr style=\"text-align: right;\">\n      <th></th>\n      <th>Postal Code</th>\n      <th>Latitude</th>\n      <th>Longitude</th>\n    </tr>\n  </thead>\n  <tbody>\n    <tr>\n      <th>0</th>\n      <td>M1B</td>\n      <td>43.806686</td>\n      <td>-79.194353</td>\n    </tr>\n    <tr>\n      <th>1</th>\n      <td>M1C</td>\n      <td>43.784535</td>\n      <td>-79.160497</td>\n    </tr>\n    <tr>\n      <th>2</th>\n      <td>M1E</td>\n      <td>43.763573</td>\n      <td>-79.188711</td>\n    </tr>\n    <tr>\n      <th>3</th>\n      <td>M1G</td>\n      <td>43.770992</td>\n      <td>-79.216917</td>\n    </tr>\n    <tr>\n      <th>4</th>\n      <td>M1H</td>\n      <td>43.773136</td>\n      <td>-79.239476</td>\n    </tr>\n  </tbody>\n</table>\n</div>"
                    }, 
                    "metadata": {}
                }
            ], 
            "metadata": {}
        }, 
        {
            "execution_count": 29, 
            "cell_type": "code", 
            "source": "neighborhoods = neighborhoods.set_index('PostalCode').join(coord.set_index('Postal Code'))\nneighborhoods.head()", 
            "outputs": [
                {
                    "execution_count": 29, 
                    "output_type": "execute_result", 
                    "data": {
                        "text/plain": "                     Borough                        Neighborhood   Latitude  \\\nPostalCode                                                                    \nM3A               North York                         [Parkwoods]  43.753259   \nM4A               North York                  [Victoria Village]  43.725882   \nM5A         Downtown Toronto         [Harbourfront, Regent Park]  43.654260   \nM6A               North York  [Lawrence Heights, Lawrence Manor]  43.718518   \nM7A             Queen's Park                      [Queen's Park]  43.662301   \n\n            Longitude  \nPostalCode             \nM3A        -79.329656  \nM4A        -79.315572  \nM5A        -79.360636  \nM6A        -79.464763  \nM7A        -79.389494  ", 
                        "text/html": "<div>\n<style scoped>\n    .dataframe tbody tr th:only-of-type {\n        vertical-align: middle;\n    }\n\n    .dataframe tbody tr th {\n        vertical-align: top;\n    }\n\n    .dataframe thead th {\n        text-align: right;\n    }\n</style>\n<table border=\"1\" class=\"dataframe\">\n  <thead>\n    <tr style=\"text-align: right;\">\n      <th></th>\n      <th>Borough</th>\n      <th>Neighborhood</th>\n      <th>Latitude</th>\n      <th>Longitude</th>\n    </tr>\n    <tr>\n      <th>PostalCode</th>\n      <th></th>\n      <th></th>\n      <th></th>\n      <th></th>\n    </tr>\n  </thead>\n  <tbody>\n    <tr>\n      <th>M3A</th>\n      <td>North York</td>\n      <td>[Parkwoods]</td>\n      <td>43.753259</td>\n      <td>-79.329656</td>\n    </tr>\n    <tr>\n      <th>M4A</th>\n      <td>North York</td>\n      <td>[Victoria Village]</td>\n      <td>43.725882</td>\n      <td>-79.315572</td>\n    </tr>\n    <tr>\n      <th>M5A</th>\n      <td>Downtown Toronto</td>\n      <td>[Harbourfront, Regent Park]</td>\n      <td>43.654260</td>\n      <td>-79.360636</td>\n    </tr>\n    <tr>\n      <th>M6A</th>\n      <td>North York</td>\n      <td>[Lawrence Heights, Lawrence Manor]</td>\n      <td>43.718518</td>\n      <td>-79.464763</td>\n    </tr>\n    <tr>\n      <th>M7A</th>\n      <td>Queen's Park</td>\n      <td>[Queen's Park]</td>\n      <td>43.662301</td>\n      <td>-79.389494</td>\n    </tr>\n  </tbody>\n</table>\n</div>"
                    }, 
                    "metadata": {}
                }
            ], 
            "metadata": {}
        }, 
        {
            "execution_count": 30, 
            "cell_type": "code", 
            "source": "neighborhoods = neighborhoods.reset_index(level=None)\nneighborhoods.head()", 
            "outputs": [
                {
                    "execution_count": 30, 
                    "output_type": "execute_result", 
                    "data": {
                        "text/plain": "  PostalCode           Borough                        Neighborhood   Latitude  \\\n0        M3A        North York                         [Parkwoods]  43.753259   \n1        M4A        North York                  [Victoria Village]  43.725882   \n2        M5A  Downtown Toronto         [Harbourfront, Regent Park]  43.654260   \n3        M6A        North York  [Lawrence Heights, Lawrence Manor]  43.718518   \n4        M7A      Queen's Park                      [Queen's Park]  43.662301   \n\n   Longitude  \n0 -79.329656  \n1 -79.315572  \n2 -79.360636  \n3 -79.464763  \n4 -79.389494  ", 
                        "text/html": "<div>\n<style scoped>\n    .dataframe tbody tr th:only-of-type {\n        vertical-align: middle;\n    }\n\n    .dataframe tbody tr th {\n        vertical-align: top;\n    }\n\n    .dataframe thead th {\n        text-align: right;\n    }\n</style>\n<table border=\"1\" class=\"dataframe\">\n  <thead>\n    <tr style=\"text-align: right;\">\n      <th></th>\n      <th>PostalCode</th>\n      <th>Borough</th>\n      <th>Neighborhood</th>\n      <th>Latitude</th>\n      <th>Longitude</th>\n    </tr>\n  </thead>\n  <tbody>\n    <tr>\n      <th>0</th>\n      <td>M3A</td>\n      <td>North York</td>\n      <td>[Parkwoods]</td>\n      <td>43.753259</td>\n      <td>-79.329656</td>\n    </tr>\n    <tr>\n      <th>1</th>\n      <td>M4A</td>\n      <td>North York</td>\n      <td>[Victoria Village]</td>\n      <td>43.725882</td>\n      <td>-79.315572</td>\n    </tr>\n    <tr>\n      <th>2</th>\n      <td>M5A</td>\n      <td>Downtown Toronto</td>\n      <td>[Harbourfront, Regent Park]</td>\n      <td>43.654260</td>\n      <td>-79.360636</td>\n    </tr>\n    <tr>\n      <th>3</th>\n      <td>M6A</td>\n      <td>North York</td>\n      <td>[Lawrence Heights, Lawrence Manor]</td>\n      <td>43.718518</td>\n      <td>-79.464763</td>\n    </tr>\n    <tr>\n      <th>4</th>\n      <td>M7A</td>\n      <td>Queen's Park</td>\n      <td>[Queen's Park]</td>\n      <td>43.662301</td>\n      <td>-79.389494</td>\n    </tr>\n  </tbody>\n</table>\n</div>"
                    }, 
                    "metadata": {}
                }
            ], 
            "metadata": {}
        }
    ], 
    "nbformat": 4, 
    "metadata": {
        "kernelspec": {
            "display_name": "Python 3", 
            "name": "python3", 
            "language": "python"
        }, 
        "language_info": {
            "mimetype": "text/x-python", 
            "nbconvert_exporter": "python", 
            "version": "3.6.6", 
            "name": "python", 
            "file_extension": ".py", 
            "pygments_lexer": "ipython3", 
            "codemirror_mode": {
                "version": 3, 
                "name": "ipython"
            }
        }
    }
}