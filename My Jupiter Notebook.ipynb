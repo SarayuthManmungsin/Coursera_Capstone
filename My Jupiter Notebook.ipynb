{
    "nbformat_minor": 1, 
    "cells": [
        {
            "source": "<h1>Jupyter Notebook For Capstone Project</h1>", 
            "cell_type": "markdown", 
            "metadata": {}
        }, 
        {
            "source": "_This notebook will be mainly used for the capstone project_", 
            "cell_type": "markdown", 
            "metadata": {}
        }, 
        {
            "source": "<h3>Week 1 Assignment</h3>", 
            "cell_type": "markdown", 
            "metadata": {}
        }, 
        {
            "source": "import pandas as pd\nimport numpy as np\n\nprint(\"Hello Capstone Project Course!\")", 
            "cell_type": "code", 
            "metadata": {}, 
            "outputs": [
                {
                    "output_type": "stream", 
                    "name": "stdout", 
                    "text": "Waiting for a Spark session to start...\nSpark Initialization Done! ApplicationId = app-20181028133134-0000\nHello Capstone Project Course!\n"
                }
            ], 
            "execution_count": 1
        }
    ], 
    "metadata": {
        "kernelspec": {
            "display_name": "Python 3.5 with Spark", 
            "name": "python3", 
            "language": "python3"
        }, 
        "language_info": {
            "mimetype": "text/x-python", 
            "nbconvert_exporter": "python", 
            "version": "3.5.4", 
            "name": "python", 
            "pygments_lexer": "ipython3", 
            "file_extension": ".py", 
            "codemirror_mode": {
                "version": 3, 
                "name": "ipython"
            }
        }
    }, 
    "nbformat": 4
}